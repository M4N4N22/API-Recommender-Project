{
 "cells": [
  {
   "cell_type": "code",
   "execution_count": 1,
   "metadata": {},
   "outputs": [
    {
     "data": {
      "text/html": [
       "<div>\n",
       "<style scoped>\n",
       "    .dataframe tbody tr th:only-of-type {\n",
       "        vertical-align: middle;\n",
       "    }\n",
       "\n",
       "    .dataframe tbody tr th {\n",
       "        vertical-align: top;\n",
       "    }\n",
       "\n",
       "    .dataframe thead th {\n",
       "        text-align: right;\n",
       "    }\n",
       "</style>\n",
       "<table border=\"1\" class=\"dataframe\">\n",
       "  <thead>\n",
       "    <tr style=\"text-align: right;\">\n",
       "      <th></th>\n",
       "      <th>Code Snippet</th>\n",
       "      <th>API Name</th>\n",
       "      <th>Function/Method Name</th>\n",
       "      <th>Description/Functionality</th>\n",
       "      <th>Usage Example</th>\n",
       "      <th>Language/Framework</th>\n",
       "    </tr>\n",
       "  </thead>\n",
       "  <tbody>\n",
       "    <tr>\n",
       "      <th>0</th>\n",
       "      <td>function getPopularVideos(apiKey) { return fe...</td>\n",
       "      <td>YouTube Data API</td>\n",
       "      <td>getPopularVideos</td>\n",
       "      <td>Get most popular videos</td>\n",
       "      <td>getPopularVideos('your_api_key');            ...</td>\n",
       "      <td>JavaScript/Fetch API</td>\n",
       "    </tr>\n",
       "    <tr>\n",
       "      <th>1</th>\n",
       "      <td>function getVideoCategories(apiKey) { return ...</td>\n",
       "      <td>YouTube Data API</td>\n",
       "      <td>getVideoCategories</td>\n",
       "      <td>Get video categories</td>\n",
       "      <td>getVideoCategories('your_api_key');          ...</td>\n",
       "      <td>JavaScript/Fetch API</td>\n",
       "    </tr>\n",
       "    <tr>\n",
       "      <th>2</th>\n",
       "      <td>function getTrendingVideos(regionCode, apiKey...</td>\n",
       "      <td>YouTube Data API</td>\n",
       "      <td>getTrendingVideos</td>\n",
       "      <td>Get trending videos by region</td>\n",
       "      <td>getTrendingVideos('US', 'your_api_key');     ...</td>\n",
       "      <td>JavaScript/Fetch API</td>\n",
       "    </tr>\n",
       "    <tr>\n",
       "      <th>3</th>\n",
       "      <td>function getVideoTags(videoId, apiKey) { retu...</td>\n",
       "      <td>YouTube Data API</td>\n",
       "      <td>getVideoTags</td>\n",
       "      <td>Get tags of a video</td>\n",
       "      <td>getVideoTags('dQw4w9WgXcQ', 'your_api_key'); ...</td>\n",
       "      <td>JavaScript/Fetch API</td>\n",
       "    </tr>\n",
       "    <tr>\n",
       "      <th>4</th>\n",
       "      <td>function getRelatedVideos(videoId, apiKey) { ...</td>\n",
       "      <td>YouTube Data API</td>\n",
       "      <td>getRelatedVideos</td>\n",
       "      <td>Get related videos</td>\n",
       "      <td>getRelatedVideos('dQw4w9WgXcQ', 'your_api_key...</td>\n",
       "      <td>JavaScript/Fetch API</td>\n",
       "    </tr>\n",
       "  </tbody>\n",
       "</table>\n",
       "</div>"
      ],
      "text/plain": [
       "  Code Snippet                                                                                                                                                    \\\n",
       "0   function getPopularVideos(apiKey) { return fe...                                                                                                               \n",
       "1   function getVideoCategories(apiKey) { return ...                                                                                                               \n",
       "2   function getTrendingVideos(regionCode, apiKey...                                                                                                               \n",
       "3   function getVideoTags(videoId, apiKey) { retu...                                                                                                               \n",
       "4   function getRelatedVideos(videoId, apiKey) { ...                                                                                                               \n",
       "\n",
       "    API Name             Function/Method Name        \\\n",
       "0   YouTube Data API     getPopularVideos             \n",
       "1   YouTube Data API     getVideoCategories           \n",
       "2   YouTube Data API     getTrendingVideos            \n",
       "3   YouTube Data API     getVideoTags                 \n",
       "4   YouTube Data API     getRelatedVideos             \n",
       "\n",
       "     Description/Functionality               \\\n",
       "0    Get most popular videos                  \n",
       "1    Get video categories                     \n",
       "2   Get trending videos by region             \n",
       "3    Get tags of a video                      \n",
       "4    Get related videos                       \n",
       "\n",
       "  Usage Example                                                                                                      \\\n",
       "0   getPopularVideos('your_api_key');            ...                                                                  \n",
       "1   getVideoCategories('your_api_key');          ...                                                                  \n",
       "2   getTrendingVideos('US', 'your_api_key');     ...                                                                  \n",
       "3   getVideoTags('dQw4w9WgXcQ', 'your_api_key'); ...                                                                  \n",
       "4   getRelatedVideos('dQw4w9WgXcQ', 'your_api_key...                                                                  \n",
       "\n",
       "    Language/Framework        \n",
       "0   JavaScript/Fetch API      \n",
       "1   JavaScript/Fetch API      \n",
       "2   JavaScript/Fetch API      \n",
       "3   JavaScript/Fetch API      \n",
       "4   JavaScript/Fetch API      "
      ]
     },
     "execution_count": 1,
     "metadata": {},
     "output_type": "execute_result"
    }
   ],
   "source": [
    "import pandas as pd\n",
    "\n",
    "# Load the dataset\n",
    "data = pd.read_csv('Code_Snippets.csv')\n",
    "\n",
    "\n",
    "\n",
    "# Inspect the data\n",
    "data.head()\n"
   ]
  },
  {
   "cell_type": "code",
   "execution_count": 2,
   "metadata": {},
   "outputs": [],
   "source": [
    "data = data.map(lambda x: x.strip() if isinstance(x, str) else x)"
   ]
  },
  {
   "cell_type": "code",
   "execution_count": 3,
   "metadata": {},
   "outputs": [
    {
     "data": {
      "text/html": [
       "<div>\n",
       "<style scoped>\n",
       "    .dataframe tbody tr th:only-of-type {\n",
       "        vertical-align: middle;\n",
       "    }\n",
       "\n",
       "    .dataframe tbody tr th {\n",
       "        vertical-align: top;\n",
       "    }\n",
       "\n",
       "    .dataframe thead th {\n",
       "        text-align: right;\n",
       "    }\n",
       "</style>\n",
       "<table border=\"1\" class=\"dataframe\">\n",
       "  <thead>\n",
       "    <tr style=\"text-align: right;\">\n",
       "      <th></th>\n",
       "      <th>Code Snippet</th>\n",
       "      <th>API Name</th>\n",
       "      <th>Function/Method Name</th>\n",
       "      <th>Description/Functionality</th>\n",
       "      <th>Usage Example</th>\n",
       "      <th>Language/Framework</th>\n",
       "    </tr>\n",
       "  </thead>\n",
       "  <tbody>\n",
       "    <tr>\n",
       "      <th>0</th>\n",
       "      <td>function getPopularVideos(apiKey) { return fet...</td>\n",
       "      <td>YouTube Data API</td>\n",
       "      <td>getPopularVideos</td>\n",
       "      <td>Get most popular videos</td>\n",
       "      <td>getPopularVideos('your_api_key');</td>\n",
       "      <td>JavaScript/Fetch API</td>\n",
       "    </tr>\n",
       "    <tr>\n",
       "      <th>1</th>\n",
       "      <td>function getVideoCategories(apiKey) { return f...</td>\n",
       "      <td>YouTube Data API</td>\n",
       "      <td>getVideoCategories</td>\n",
       "      <td>Get video categories</td>\n",
       "      <td>getVideoCategories('your_api_key');</td>\n",
       "      <td>JavaScript/Fetch API</td>\n",
       "    </tr>\n",
       "    <tr>\n",
       "      <th>2</th>\n",
       "      <td>function getTrendingVideos(regionCode, apiKey)...</td>\n",
       "      <td>YouTube Data API</td>\n",
       "      <td>getTrendingVideos</td>\n",
       "      <td>Get trending videos by region</td>\n",
       "      <td>getTrendingVideos('US', 'your_api_key');</td>\n",
       "      <td>JavaScript/Fetch API</td>\n",
       "    </tr>\n",
       "    <tr>\n",
       "      <th>3</th>\n",
       "      <td>function getVideoTags(videoId, apiKey) { retur...</td>\n",
       "      <td>YouTube Data API</td>\n",
       "      <td>getVideoTags</td>\n",
       "      <td>Get tags of a video</td>\n",
       "      <td>getVideoTags('dQw4w9WgXcQ', 'your_api_key');</td>\n",
       "      <td>JavaScript/Fetch API</td>\n",
       "    </tr>\n",
       "    <tr>\n",
       "      <th>4</th>\n",
       "      <td>function getRelatedVideos(videoId, apiKey) { r...</td>\n",
       "      <td>YouTube Data API</td>\n",
       "      <td>getRelatedVideos</td>\n",
       "      <td>Get related videos</td>\n",
       "      <td>getRelatedVideos('dQw4w9WgXcQ', 'your_api_key');</td>\n",
       "      <td>JavaScript/Fetch API</td>\n",
       "    </tr>\n",
       "  </tbody>\n",
       "</table>\n",
       "</div>"
      ],
      "text/plain": [
       "  Code Snippet                                                                                                                                                    \\\n",
       "0  function getPopularVideos(apiKey) { return fet...                                                                                                               \n",
       "1  function getVideoCategories(apiKey) { return f...                                                                                                               \n",
       "2  function getTrendingVideos(regionCode, apiKey)...                                                                                                               \n",
       "3  function getVideoTags(videoId, apiKey) { retur...                                                                                                               \n",
       "4  function getRelatedVideos(videoId, apiKey) { r...                                                                                                               \n",
       "\n",
       "  API Name           Function/Method Name        \\\n",
       "0   YouTube Data API           getPopularVideos   \n",
       "1   YouTube Data API         getVideoCategories   \n",
       "2   YouTube Data API          getTrendingVideos   \n",
       "3   YouTube Data API               getVideoTags   \n",
       "4   YouTube Data API           getRelatedVideos   \n",
       "\n",
       "  Description/Functionality               \\\n",
       "0                Get most popular videos   \n",
       "1                   Get video categories   \n",
       "2          Get trending videos by region   \n",
       "3                    Get tags of a video   \n",
       "4                     Get related videos   \n",
       "\n",
       "  Usage Example                                                                                                      \\\n",
       "0                  getPopularVideos('your_api_key');                                                                  \n",
       "1                getVideoCategories('your_api_key');                                                                  \n",
       "2           getTrendingVideos('US', 'your_api_key');                                                                  \n",
       "3       getVideoTags('dQw4w9WgXcQ', 'your_api_key');                                                                  \n",
       "4   getRelatedVideos('dQw4w9WgXcQ', 'your_api_key');                                                                  \n",
       "\n",
       "  Language/Framework        \n",
       "0     JavaScript/Fetch API  \n",
       "1     JavaScript/Fetch API  \n",
       "2     JavaScript/Fetch API  \n",
       "3     JavaScript/Fetch API  \n",
       "4     JavaScript/Fetch API  "
      ]
     },
     "execution_count": 3,
     "metadata": {},
     "output_type": "execute_result"
    }
   ],
   "source": [
    "data.head()"
   ]
  },
  {
   "cell_type": "code",
   "execution_count": 4,
   "metadata": {},
   "outputs": [
    {
     "data": {
      "text/plain": [
       "Code Snippet                                                                                                                                                      object\n",
       "API Name                                                                                                                                                          object\n",
       "Function/Method Name                                                                                                                                              object\n",
       "Description/Functionality                                                                                                                                         object\n",
       "Usage Example                                                                                                                                                     object\n",
       "Language/Framework                                                                                                                                                object\n",
       "dtype: object"
      ]
     },
     "execution_count": 4,
     "metadata": {},
     "output_type": "execute_result"
    }
   ],
   "source": [
    "data.dtypes"
   ]
  },
  {
   "cell_type": "code",
   "execution_count": 5,
   "metadata": {},
   "outputs": [],
   "source": [
    "data = data.map(str)"
   ]
  },
  {
   "cell_type": "code",
   "execution_count": 6,
   "metadata": {},
   "outputs": [
    {
     "data": {
      "text/plain": [
       "Code Snippet                                                                                                                                                      object\n",
       "API Name                                                                                                                                                          object\n",
       "Function/Method Name                                                                                                                                              object\n",
       "Description/Functionality                                                                                                                                         object\n",
       "Usage Example                                                                                                                                                     object\n",
       "Language/Framework                                                                                                                                                object\n",
       "dtype: object"
      ]
     },
     "execution_count": 6,
     "metadata": {},
     "output_type": "execute_result"
    }
   ],
   "source": [
    "data.dtypes"
   ]
  },
  {
   "cell_type": "code",
   "execution_count": 7,
   "metadata": {},
   "outputs": [],
   "source": [
    "columns_to_join = ['Code Snippet                                                                                                                                                  ', 'Description/Functionality             ','Usage Example                                                                                                    ']"
   ]
  },
  {
   "cell_type": "code",
   "execution_count": 8,
   "metadata": {},
   "outputs": [],
   "source": [
    "data['combined_text'] = data[columns_to_join].apply(lambda row: ' '.join(row), axis=1)"
   ]
  },
  {
   "cell_type": "code",
   "execution_count": 9,
   "metadata": {},
   "outputs": [
    {
     "data": {
      "text/plain": [
       "Index(['Code Snippet                                                                                                                                                  ',\n",
       "       'API Name          ', 'Function/Method Name      ',\n",
       "       'Description/Functionality             ',\n",
       "       'Usage Example                                                                                                    ',\n",
       "       'Language/Framework      ', 'combined_text'],\n",
       "      dtype='object')"
      ]
     },
     "execution_count": 9,
     "metadata": {},
     "output_type": "execute_result"
    }
   ],
   "source": [
    "data.columns"
   ]
  },
  {
   "cell_type": "code",
   "execution_count": 10,
   "metadata": {},
   "outputs": [
    {
     "name": "stderr",
     "output_type": "stream",
     "text": [
      "c:\\Users\\acer\\anaconda3\\envs\\apiR\\lib\\site-packages\\sentence_transformers\\cross_encoder\\CrossEncoder.py:11: TqdmExperimentalWarning: Using `tqdm.autonotebook.tqdm` in notebook mode. Use `tqdm.tqdm` instead to force console mode (e.g. in jupyter console)\n",
      "  from tqdm.autonotebook import tqdm, trange\n",
      "c:\\Users\\acer\\anaconda3\\envs\\apiR\\lib\\site-packages\\huggingface_hub\\file_download.py:1132: FutureWarning: `resume_download` is deprecated and will be removed in version 1.0.0. Downloads always resume when possible. If you want to force a new download, use `force_download=True`.\n",
      "  warnings.warn(\n"
     ]
    },
    {
     "data": {
      "application/vnd.jupyter.widget-view+json": {
       "model_id": "07477bab2e82438d9f7b32227e8ea5b4",
       "version_major": 2,
       "version_minor": 0
      },
      "text/plain": [
       "Batches:   0%|          | 0/7 [00:00<?, ?it/s]"
      ]
     },
     "metadata": {},
     "output_type": "display_data"
    }
   ],
   "source": [
    "from sentence_transformers import SentenceTransformer\n",
    "\n",
    "# Load a pre-trained Sentence-BERT model\n",
    "model = SentenceTransformer('all-MiniLM-L6-v2')\n",
    "\n",
    "# Encode the combined text using Sentence-BERT\n",
    "embeddings = model.encode(data['combined_text'].tolist(), show_progress_bar=True)\n",
    "\n",
    "# Save the embeddings for later use\n",
    "import numpy as np\n",
    "np.save('embeddings.npy', embeddings)\n"
   ]
  },
  {
   "cell_type": "code",
   "execution_count": 11,
   "metadata": {},
   "outputs": [
    {
     "name": "stdout",
     "output_type": "stream",
     "text": [
      "   API Name           Function/Method Name        \\\n",
      "64         Stripe API        createPaymentIntent   \n",
      "62         Stripe API               createCharge   \n",
      "68         Stripe API              createInvoice   \n",
      "66         Stripe API         createSubscription   \n",
      "60         Stripe API             createCustomer   \n",
      "\n",
      "   Code Snippet                                                                                                                                                    \\\n",
      "64  const stripe = require('stripe')('your_api_key...                                                                                                               \n",
      "62  const stripe = require('stripe')('your_api_key...                                                                                                               \n",
      "68  const stripe = require('stripe')('your_api_key...                                                                                                               \n",
      "66  const stripe = require('stripe')('your_api_key...                                                                                                               \n",
      "60  const stripe = require('stripe')('your_api_key...                                                                                                               \n",
      "\n",
      "   Description/Functionality               \n",
      "64            Create a new payment intent  \n",
      "62                    Create a new charge  \n",
      "68                   Create a new invoice  \n",
      "66              Create a new subscription  \n",
      "60                  Create a new customer  \n"
     ]
    }
   ],
   "source": [
    "from sklearn.metrics.pairwise import cosine_similarity\n",
    "\n",
    "# Function to recommend code snippets based on a query\n",
    "def recommend_code_snippet(query, top_n=5):\n",
    "    query_embedding = model.encode([query])[0]\n",
    "    similarities = cosine_similarity([query_embedding], embeddings)[0]\n",
    "    indices = similarities.argsort()[-top_n:][::-1]\n",
    "    recommendations = data.iloc[indices]\n",
    "    return recommendations[['API Name          ', 'Function/Method Name      ', 'Code Snippet                                                                                                                                                  ', 'Description/Functionality             ']]\n",
    "\n",
    "# Example usage\n",
    "query = \"How to create a Stripe payment\"\n",
    "recommendations = recommend_code_snippet(query)\n",
    "print(recommendations)\n"
   ]
  },
  {
   "cell_type": "code",
   "execution_count": null,
   "metadata": {},
   "outputs": [],
   "source": []
  }
 ],
 "metadata": {
  "kernelspec": {
   "display_name": "Python 3 (ipykernel)",
   "language": "python",
   "name": "python3"
  },
  "language_info": {
   "codemirror_mode": {
    "name": "ipython",
    "version": 3
   },
   "file_extension": ".py",
   "mimetype": "text/x-python",
   "name": "python",
   "nbconvert_exporter": "python",
   "pygments_lexer": "ipython3",
   "version": "3.9.19"
  }
 },
 "nbformat": 4,
 "nbformat_minor": 4
}
